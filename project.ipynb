{
 "cells": [
  {
   "cell_type": "code",
   "execution_count": 3,
   "metadata": {},
   "outputs": [
    {
     "name": "stderr",
     "output_type": "stream",
     "text": [
      "Seed set to 1234\n"
     ]
    },
    {
     "data": {
      "text/plain": [
       "<Experiment: artifact_location='file:///home/ignacy/putai/sem5/ComputerVision/project3/mlflow/745596421571243462', creation_time=1705860311088, experiment_id='745596421571243462', last_update_time=1705860311088, lifecycle_stage='active', name='CV_Project3', tags={}>"
      ]
     },
     "execution_count": 3,
     "metadata": {},
     "output_type": "execute_result"
    }
   ],
   "source": [
    "import numpy as np \n",
    "import pandas as pd\n",
    "import seaborn as sns \n",
    "import matplotlib.pyplot as plt\n",
    "from sklearn.model_selection import train_test_split\n",
    "import torch\n",
    "import torch.nn as nn\n",
    "import torch.nn.functional as F\n",
    "import lightning as L\n",
    "from lightning import LightningModule\n",
    "from torch.utils.data import Dataset, DataLoader\n",
    "from sklearn.preprocessing import StandardScaler\n",
    "import mlflow\n",
    "import os\n",
    "import sys\n",
    "import warnings\n",
    "\n",
    "\n",
    "# Seed for reproducibility\n",
    "seed = 1234\n",
    "np.random.seed(seed)\n",
    "torch.manual_seed(seed)\n",
    "L.seed_everything(seed)\n",
    "\n",
    "# --- PREP ENVIRONMENT --- #\n",
    "\n",
    "# Set up all directories\n",
    "data_dir = 'data'\n",
    "model_dir = 'models'\n",
    "figure_dir = 'figures'\n",
    "mlflow_dir = 'mlflow'\n",
    "\n",
    "# Create directories if they don't exist\n",
    "if not os.path.exists(data_dir):\n",
    "    os.makedirs(data_dir)\n",
    "if not os.path.exists(model_dir):\n",
    "    os.makedirs(model_dir)\n",
    "if not os.path.exists(figure_dir):\n",
    "    os.makedirs(figure_dir)\n",
    "if not os.path.exists(mlflow_dir):\n",
    "    os.makedirs(mlflow_dir)\n",
    "    \n",
    "# Set up MLFlow\n",
    "mlflow.set_tracking_uri('file:' + os.path.abspath(mlflow_dir))\n",
    "mlflow.set_experiment('CV_Project3')"
   ]
  },
  {
   "cell_type": "code",
   "execution_count": null,
   "metadata": {},
   "outputs": [],
   "source": []
  }
 ],
 "metadata": {
  "kernelspec": {
   "display_name": "putenv",
   "language": "python",
   "name": "python3"
  },
  "language_info": {
   "codemirror_mode": {
    "name": "ipython",
    "version": 3
   },
   "file_extension": ".py",
   "mimetype": "text/x-python",
   "name": "python",
   "nbconvert_exporter": "python",
   "pygments_lexer": "ipython3",
   "version": "3.11.6"
  }
 },
 "nbformat": 4,
 "nbformat_minor": 2
}
